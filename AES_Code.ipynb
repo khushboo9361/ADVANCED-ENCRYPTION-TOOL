{
  "nbformat": 4,
  "nbformat_minor": 0,
  "metadata": {
    "colab": {
      "name": "AES_Code.ipynb",
      "provenance": [],
      "collapsed_sections": []
    },
    "kernelspec": {
      "name": "python3",
      "display_name": "Python 3"
    },
    "language_info": {
      "name": "python"
    }
  },
  "cells": [
    {
      "cell_type": "markdown",
      "metadata": {
        "id": "uK5jdYOyc3sO"
      },
      "source": [
        "AES ENCRYPTION & DECRYPTION"
      ]
    },
    {
      "cell_type": "markdown",
      "metadata": {
        "id": "ipBS5O-Fc94S"
      },
      "source": [
        "**Top Class Cryptography Project**"
      ]
    },
    {
      "cell_type": "code",
      "metadata": {
        "colab": {
          "base_uri": "https://localhost:8080/"
        },
        "id": "hDz53Hihc8dk",
        "outputId": "b2b939ac-adf6-4eee-9089-f4f0efffb6f5"
      },
      "source": [
        "pip install pycrypto\n"
      ],
      "execution_count": 1,
      "outputs": [
        {
          "output_type": "stream",
          "text": [
            "Collecting pycrypto\n",
            "\u001b[?25l  Downloading https://files.pythonhosted.org/packages/60/db/645aa9af249f059cc3a368b118de33889219e0362141e75d4eaf6f80f163/pycrypto-2.6.1.tar.gz (446kB)\n",
            "\r\u001b[K     |▊                               | 10kB 12.8MB/s eta 0:00:01\r\u001b[K     |█▌                              | 20kB 14.9MB/s eta 0:00:01\r\u001b[K     |██▏                             | 30kB 10.1MB/s eta 0:00:01\r\u001b[K     |███                             | 40kB 8.2MB/s eta 0:00:01\r\u001b[K     |███▊                            | 51kB 5.0MB/s eta 0:00:01\r\u001b[K     |████▍                           | 61kB 5.7MB/s eta 0:00:01\r\u001b[K     |█████▏                          | 71kB 5.9MB/s eta 0:00:01\r\u001b[K     |█████▉                          | 81kB 6.4MB/s eta 0:00:01\r\u001b[K     |██████▋                         | 92kB 5.9MB/s eta 0:00:01\r\u001b[K     |███████▍                        | 102kB 4.9MB/s eta 0:00:01\r\u001b[K     |████████                        | 112kB 4.9MB/s eta 0:00:01\r\u001b[K     |████████▉                       | 122kB 4.9MB/s eta 0:00:01\r\u001b[K     |█████████▌                      | 133kB 4.9MB/s eta 0:00:01\r\u001b[K     |██████████▎                     | 143kB 4.9MB/s eta 0:00:01\r\u001b[K     |███████████                     | 153kB 4.9MB/s eta 0:00:01\r\u001b[K     |███████████▊                    | 163kB 4.9MB/s eta 0:00:01\r\u001b[K     |████████████▌                   | 174kB 4.9MB/s eta 0:00:01\r\u001b[K     |█████████████▏                  | 184kB 4.9MB/s eta 0:00:01\r\u001b[K     |██████████████                  | 194kB 4.9MB/s eta 0:00:01\r\u001b[K     |██████████████▊                 | 204kB 4.9MB/s eta 0:00:01\r\u001b[K     |███████████████▍                | 215kB 4.9MB/s eta 0:00:01\r\u001b[K     |████████████████▏               | 225kB 4.9MB/s eta 0:00:01\r\u001b[K     |█████████████████               | 235kB 4.9MB/s eta 0:00:01\r\u001b[K     |█████████████████▋              | 245kB 4.9MB/s eta 0:00:01\r\u001b[K     |██████████████████▍             | 256kB 4.9MB/s eta 0:00:01\r\u001b[K     |███████████████████             | 266kB 4.9MB/s eta 0:00:01\r\u001b[K     |███████████████████▉            | 276kB 4.9MB/s eta 0:00:01\r\u001b[K     |████████████████████▋           | 286kB 4.9MB/s eta 0:00:01\r\u001b[K     |█████████████████████▎          | 296kB 4.9MB/s eta 0:00:01\r\u001b[K     |██████████████████████          | 307kB 4.9MB/s eta 0:00:01\r\u001b[K     |██████████████████████▊         | 317kB 4.9MB/s eta 0:00:01\r\u001b[K     |███████████████████████▌        | 327kB 4.9MB/s eta 0:00:01\r\u001b[K     |████████████████████████▎       | 337kB 4.9MB/s eta 0:00:01\r\u001b[K     |█████████████████████████       | 348kB 4.9MB/s eta 0:00:01\r\u001b[K     |█████████████████████████▊      | 358kB 4.9MB/s eta 0:00:01\r\u001b[K     |██████████████████████████▍     | 368kB 4.9MB/s eta 0:00:01\r\u001b[K     |███████████████████████████▏    | 378kB 4.9MB/s eta 0:00:01\r\u001b[K     |████████████████████████████    | 389kB 4.9MB/s eta 0:00:01\r\u001b[K     |████████████████████████████▋   | 399kB 4.9MB/s eta 0:00:01\r\u001b[K     |█████████████████████████████▍  | 409kB 4.9MB/s eta 0:00:01\r\u001b[K     |██████████████████████████████  | 419kB 4.9MB/s eta 0:00:01\r\u001b[K     |██████████████████████████████▉ | 430kB 4.9MB/s eta 0:00:01\r\u001b[K     |███████████████████████████████▋| 440kB 4.9MB/s eta 0:00:01\r\u001b[K     |████████████████████████████████| 450kB 4.9MB/s \n",
            "\u001b[?25hBuilding wheels for collected packages: pycrypto\n",
            "  Building wheel for pycrypto (setup.py) ... \u001b[?25l\u001b[?25hdone\n",
            "  Created wheel for pycrypto: filename=pycrypto-2.6.1-cp37-cp37m-linux_x86_64.whl size=499931 sha256=c551fb32c7d3f7fa72b2ab95e5399213dd08b617820135ba085c5351e95cf9fb\n",
            "  Stored in directory: /root/.cache/pip/wheels/27/02/5e/77a69d0c16bb63c6ed32f5386f33a2809c94bd5414a2f6c196\n",
            "Successfully built pycrypto\n",
            "Installing collected packages: pycrypto\n",
            "Successfully installed pycrypto-2.6.1\n"
          ],
          "name": "stdout"
        }
      ]
    },
    {
      "cell_type": "code",
      "metadata": {
        "id": "l0Gzlj9Lcxjx"
      },
      "source": [
        "import hashlib\n",
        "import math\n",
        "import os\n",
        "\n",
        "from Crypto.Cipher import AES"
      ],
      "execution_count": 2,
      "outputs": []
    },
    {
      "cell_type": "code",
      "metadata": {
        "id": "zNGp3kNNdVuO"
      },
      "source": [
        "IV_SIZE = 16 # but in real 128\n",
        "KEY_SIZE = 32 # 256\n",
        "SALT_SIZE = 16 "
      ],
      "execution_count": 3,
      "outputs": []
    },
    {
      "cell_type": "code",
      "metadata": {
        "id": "TzBL5QawyWkX"
      },
      "source": [
        ""
      ],
      "execution_count": null,
      "outputs": []
    },
    {
      "cell_type": "markdown",
      "metadata": {
        "id": "3sZJbdpMvj93"
      },
      "source": [
        "WAIT!"
      ]
    },
    {
      "cell_type": "markdown",
      "metadata": {
        "id": "Ojr1Q2cjvl1Y"
      },
      "source": [
        "Project is elobrated and longer with detailed explanation.\n",
        "If you want this Project.\n",
        "\n",
        "\n",
        "For Project Code, PPT and Report.\n",
        "\n",
        "Mail me at **vatshayan007@gmail.com** Now"
      ]
    },
    {
      "cell_type": "code",
      "metadata": {
        "id": "jtNKxzh9uxSy"
      },
      "source": [
        ""
      ],
      "execution_count": 7,
      "outputs": []
    }
  ]
}